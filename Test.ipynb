{
 "cells": [
  {
   "cell_type": "code",
   "execution_count": 10,
   "metadata": {
    "collapsed": false
   },
   "outputs": [],
   "source": [
    "import repository\n",
    "import configuration\n",
    "\n",
    "from repository import Repository\n",
    "from configuration import config\n",
    "repository = Repository(config)\n",
    "dataset, labels = repository.get_dataset_and_labels()"
   ]
  },
  {
   "cell_type": "code",
   "execution_count": null,
   "metadata": {
    "collapsed": false
   },
   "outputs": [],
   "source": [
    "import numpy as np\n",
    "from sklearn.cross_validation import train_test_split\n",
    "from sklearn.svm import SVC\n",
    "from sklearn.cross_validation import ShuffleSplit\n",
    "from sklearn.grid_search import GridSearchCV\n",
    "\n",
    "# Ensure that there are no NaNs\n",
    "dataset.fillna(-85)\n",
    "# Split the dataset into training (90 \\%) and testing (10 \\%)\n",
    "X_train, X_test, y_train, y_test = train_test_split(dataset, labels,\n",
    "test_size = 0.1 )\n",
    "\n",
    "cv = ShuffleSplit(X_train.shape[0], n_iter=10, test_size=0.2,\n",
    "random_state=0)\n",
    "\n",
    "# Define the classifier to use\n",
    "estimator = SVC(kernel='linear')\n",
    "\n",
    "# Define parameter space.\n",
    "gammas = np.logspace(-6, -1, 10)\n",
    "\n",
    "# Use Test dataset and use cross validation to find bet hyper-parameters.\n",
    "classifier = GridSearchCV(estimator=estimator, cv=cv,\n",
    "param_grid=dict(gamma=gammas))\n",
    "classifier.fit(X_train, [repository.locations.keys().index(tuple(l)) for\n",
    "l in y_train])\n",
    "\n",
    "# Test final results with the testing dataset\n",
    "classifier.score(X_test, [repository.locations.keys().index(tuple(l)) for\n",
    "l in y_test])"
   ]
  },
  {
   "cell_type": "code",
   "execution_count": null,
   "metadata": {
    "collapsed": true
   },
   "outputs": [],
   "source": [
    "# Convert to numerical labels\n",
    "numerical_labels = [repository.locations.keys().index(tuple(l)) for\n",
    "l in y_train]\n",
    "\n",
    "# Convert back to coordinate labels\n",
    "coordinate_labels = [repository.locations.keys()[i] for i in c_output]"
   ]
  }
 ],
 "metadata": {
  "kernelspec": {
   "display_name": "Python 3",
   "language": "python",
   "name": "python3"
  },
  "language_info": {
   "codemirror_mode": {
    "name": "ipython",
    "version": 3.0
   },
   "file_extension": ".py",
   "mimetype": "text/x-python",
   "name": "python",
   "nbconvert_exporter": "python",
   "pygments_lexer": "ipython3",
   "version": "3.5.1"
  }
 },
 "nbformat": 4,
 "nbformat_minor": 0
}